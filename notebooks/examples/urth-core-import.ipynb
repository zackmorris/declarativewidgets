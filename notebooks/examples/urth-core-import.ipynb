{
 "cells": [
  {
   "cell_type": "markdown",
   "metadata": {},
   "source": [
    "###urth-core-import Examples"
   ]
  },
  {
   "cell_type": "markdown",
   "metadata": {},
   "source": [
    "####Example 1: Import a new package with progress displayed in the console. Element should render after package has been imported."
   ]
  },
  {
   "cell_type": "code",
   "execution_count": 2,
   "metadata": {
    "collapsed": false
   },
   "outputs": [
    {
     "data": {
      "text/html": [
       "<link rel='import' href='urth_components/gold-zip-input/gold-zip-input.html' \n",
       "        is='urth-core-import' package='PolymerElements/gold-zip-input' debug>\n",
       "<gold-zip-input></gold-zip-input>"
      ],
      "text/plain": [
       "<IPython.core.display.HTML object>"
      ]
     },
     "metadata": {},
     "output_type": "display_data"
    }
   ],
   "source": [
    "%%html\n",
    "<link rel='import' href='urth_components/gold-zip-input/gold-zip-input.html' \n",
    "        is='urth-core-import' package='PolymerElements/gold-zip-input' debug>\n",
    "<gold-zip-input></gold-zip-input>"
   ]
  },
  {
   "cell_type": "markdown",
   "metadata": {},
   "source": [
    "####Example 2: The package property supports the same property values as are valid for the `bower install` command."
   ]
  },
  {
   "cell_type": "code",
   "execution_count": 3,
   "metadata": {
    "collapsed": false
   },
   "outputs": [
    {
     "data": {
      "text/html": [
       "<link rel='import' href='urth_components/gold-cc-expiration-input/gold-cc-expiration-input.html' \n",
       "        is='urth-core-import' package='PolymerElements/gold-cc-expiration-input'>\n",
       "<gold-cc-expiration-input></gold-cc-expiration-input>"
      ],
      "text/plain": [
       "<IPython.core.display.HTML object>"
      ]
     },
     "metadata": {},
     "output_type": "display_data"
    }
   ],
   "source": [
    "%%html\n",
    "<link rel='import' href='urth_components/gold-cc-expiration-input/gold-cc-expiration-input.html' \n",
    "        is='urth-core-import' package='PolymerElements/gold-cc-expiration-input'>\n",
    "<gold-cc-expiration-input></gold-cc-expiration-input>"
   ]
  },
  {
   "cell_type": "code",
   "execution_count": null,
   "metadata": {
    "collapsed": true
   },
   "outputs": [],
   "source": [
    "%%html\n",
    "<link rel='import' href='urth_components/paper-input/paper-input.html' \n",
    "        is='urth-core-import' package='https://github.com/PolymerElements/paper-input.git'>\n",
    "<paper-input></paper-input>"
   ]
  },
  {
   "cell_type": "markdown",
   "metadata": {},
   "source": [
    "####Example 3: Package name can be programmatically specified. Once the package is set and subsequently loaded, the element will render. "
   ]
  },
  {
   "cell_type": "code",
   "execution_count": null,
   "metadata": {
    "collapsed": true
   },
   "outputs": [],
   "source": [
    "%%html\n",
    "<link rel='import' is='urth-core-import' id='myimport' debug>\n",
    "<gold-phone-input></gold-phone-input>"
   ]
  },
  {
   "cell_type": "code",
   "execution_count": null,
   "metadata": {
    "collapsed": true
   },
   "outputs": [],
   "source": [
    "%%javascript\n",
    "var mine = document.getElementById('myimport');\n",
    "mine.setAttribute('href', 'urth_components/gold-phone-input/gold-phone-input.html');\n",
    "mine.setAttribute('package', 'PolymerElements/gold-phone-input');"
   ]
  },
  {
   "cell_type": "markdown",
   "metadata": {},
   "source": [
    "####Example 4: Specifying invalid package or href should display an error message in the console, even if `debug` is not specified."
   ]
  },
  {
   "cell_type": "code",
   "execution_count": null,
   "metadata": {
    "collapsed": true
   },
   "outputs": [],
   "source": [
    "%%html\n",
    "<link rel='import' href='urth_components/gold-potato-input/gold-potato-input.html' \n",
    "        is='urth-core-import' package='https://github.com/PolymerElements/gold-potato-input.git'>"
   ]
  },
  {
   "cell_type": "code",
   "execution_count": null,
   "metadata": {
    "collapsed": true
   },
   "outputs": [],
   "source": [
    "%%html\n",
    "<link rel='import' href='urth_components/paper-slider/paper-not-exist.html' \n",
    "        is='urth-core-import' package='PolymerElements/paper-slider'>"
   ]
  },
  {
   "cell_type": "markdown",
   "metadata": {},
   "source": [
    "####Example 5: Importing multiple elements in the same cell should work."
   ]
  },
  {
   "cell_type": "code",
   "execution_count": null,
   "metadata": {
    "collapsed": true
   },
   "outputs": [],
   "source": [
    "%%html\n",
    "<link rel='import' href='urth_components/platinum-push-messaging/platinum-push-messaging.html' \n",
    "        is='urth-core-import' package='PolymerElements/platinum-push-messaging' debug>\n",
    "<link rel='import' href='urth_components/platinum-sw/platinum-sw-cache.html' \n",
    "        is='urth-core-import' package='PolymerElements/platinum-sw' debug>\n",
    "<link rel='import' href='urth_components/gold-email-input/gold-email-input.html' \n",
    "        is='urth-core-import' package='PolymerElements/gold-email-input' debug>\n",
    "<link rel='import' href='urth_components/gold-cc-input/gold-cc-input.html' \n",
    "        is='urth-core-import' package='PolymerElements/gold-cc-input' debug>\n",
    "<gold-email-input></gold-email-input>\n",
    "<gold-cc-input></gold-cc-input>"
   ]
  },
  {
   "cell_type": "markdown",
   "metadata": {},
   "source": [
    "####Example 6: Importing the same package multiple times should not cause an error."
   ]
  },
  {
   "cell_type": "code",
   "execution_count": null,
   "metadata": {
    "collapsed": true
   },
   "outputs": [],
   "source": [
    "%%html\n",
    "<link rel='import' href='urth_components/gold-cc-cvc-input/gold-cc-cvc-input.html' \n",
    "        is='urth-core-import' package='PolymerElements/gold-cc-cvc-input' debug>\n",
    "<link rel='import' href='urth_components/gold-cc-cvc-input/gold-cc-cvc-input.html' \n",
    "        is='urth-core-import' package='PolymerElements/gold-cc-cvc-input' debug>\n",
    "<gold-cc-cvc-input></gold-cc-cvc-input>"
   ]
  }
 ],
 "metadata": {
  "kernelspec": {
   "display_name": "Python 3",
   "language": "python",
   "name": "python3"
  },
  "language_info": {
   "codemirror_mode": {
    "name": "ipython",
    "version": 3
   },
   "file_extension": ".py",
   "mimetype": "text/x-python",
   "name": "python",
   "nbconvert_exporter": "python",
   "pygments_lexer": "ipython3",
   "version": "3.4.3"
  }
 },
 "nbformat": 4,
 "nbformat_minor": 0
}
